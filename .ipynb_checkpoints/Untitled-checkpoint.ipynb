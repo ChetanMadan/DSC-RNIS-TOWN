{
 "cells": [
  {
   "cell_type": "code",
   "execution_count": 1,
   "metadata": {},
   "outputs": [],
   "source": [
    "import socket\n",
    "import sys\n",
    "import time\n",
    "from _thread import start_new_thread\n",
    "import pickle\n",
    "import cv2"
   ]
  },
  {
   "cell_type": "code",
   "execution_count": 2,
   "metadata": {},
   "outputs": [],
   "source": [
    "def find_fps(t):\n",
    "    return(time.time()-t)"
   ]
  },
  {
   "cell_type": "code",
   "execution_count": 9,
   "metadata": {},
   "outputs": [],
   "source": [
    "def client_thread(conn):\n",
    "    \n",
    "    print('client thread started')\n",
    "    #conn.send(bytes(input(\"enter input : \"), 'UTF-8'))\n",
    "    while True:\n",
    "        data=b\"\"\n",
    "        while True:\n",
    "\n",
    "            packet = conn.recv(4096)\n",
    "            if not packet: break\n",
    "            data+=packet\n",
    "        if not data: break\n",
    "        data=pickle.loads(data)\n",
    "        print(\" \")\n",
    "        print(data[0])\n",
    "        print(\"DATE\")\n",
    "        print(data[1])\n",
    "        \n",
    "        cv2.imshow(\"frame transmitted!\", data[0])\n",
    "        if cv2.waitKey(0)==ord('q'):\n",
    "            cv2.destroyAllWindows()\n",
    "\n",
    "        #conn.sendall(bytes(reply, 'UTF-8'))\n",
    "    conn.close()\n",
    "    print(\"connection closed\")\n",
    "\n",
    "    cv2.imshow(\"frame transmitted!\", data)\n",
    "    if cv2.waitKey(0)==ord('q'):\n",
    "        cv2.destroyAllWindows()\n",
    "    return data\n"
   ]
  },
  {
   "cell_type": "code",
   "execution_count": null,
   "metadata": {},
   "outputs": [],
   "source": []
  },
  {
   "cell_type": "code",
   "execution_count": 11,
   "metadata": {},
   "outputs": [
    {
     "name": "stdout",
     "output_type": "stream",
     "text": [
      "[Errno 98] Address already in use\n"
     ]
    },
    {
     "ename": "SystemExit",
     "evalue": "",
     "output_type": "error",
     "traceback": [
      "An exception has occurred, use %tb to see the full traceback.\n",
      "\u001b[0;31mSystemExit\u001b[0m\n"
     ]
    },
    {
     "name": "stderr",
     "output_type": "stream",
     "text": [
      "/home/dexter/anaconda3/lib/python3.6/site-packages/IPython/core/interactiveshell.py:2918: UserWarning: To exit: use 'exit', 'quit', or Ctrl-D.\n",
      "  warn(\"To exit: use 'exit', 'quit', or Ctrl-D.\", stacklevel=1)\n"
     ]
    }
   ],
   "source": [
    "HOST = '127.0.0.1'\n",
    "PORT =8888\n",
    "\n",
    "s = socket.socket(socket.AF_INET, socket.SOCK_STREAM)\n",
    "s.setsockopt(socket.SOL_SOCKET, socket.SO_REUSEADDR, 1)\n",
    "try:\n",
    "    s.bind((HOST, PORT))\n",
    "\n",
    "except socket.error as msg:\n",
    "    print(msg)\n",
    "    sys.exit()\n",
    "\n",
    "print(\"bind complete\")\n",
    "s.listen(5)\n",
    "print(\"socket listening\")\n",
    "\n",
    "\n",
    "\n",
    "while True:\n",
    "    conn, addr = s.accept()\n",
    "    print('connected to ', addr[0], \" \", addr[1]) \n",
    "    try:\n",
    "        msg = start_new_thread(client_thread(conn,))\n",
    "        print(msg)\n",
    "    except TypeError:\n",
    "        pass\n",
    "s.close()      \n"
   ]
  },
  {
   "cell_type": "code",
   "execution_count": 8,
   "metadata": {},
   "outputs": [
    {
     "data": {
      "text/plain": [
       "<socket.socket [closed] fd=-1, family=AddressFamily.AF_INET, type=SocketKind.SOCK_STREAM, proto=0>"
      ]
     },
     "execution_count": 8,
     "metadata": {},
     "output_type": "execute_result"
    }
   ],
   "source": [
    "conn"
   ]
  },
  {
   "cell_type": "code",
   "execution_count": null,
   "metadata": {
    "scrolled": true
   },
   "outputs": [],
   "source": []
  },
  {
   "cell_type": "code",
   "execution_count": null,
   "metadata": {},
   "outputs": [],
   "source": []
  },
  {
   "cell_type": "code",
   "execution_count": null,
   "metadata": {},
   "outputs": [],
   "source": []
  }
 ],
 "metadata": {
  "kernelspec": {
   "display_name": "Python 3",
   "language": "python",
   "name": "python3"
  },
  "language_info": {
   "codemirror_mode": {
    "name": "ipython",
    "version": 3
   },
   "file_extension": ".py",
   "mimetype": "text/x-python",
   "name": "python",
   "nbconvert_exporter": "python",
   "pygments_lexer": "ipython3",
   "version": "3.6.8"
  }
 },
 "nbformat": 4,
 "nbformat_minor": 2
}

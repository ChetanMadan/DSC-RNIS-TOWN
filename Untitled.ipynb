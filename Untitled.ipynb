{
 "cells": [
  {
   "cell_type": "code",
   "execution_count": 1,
   "metadata": {},
   "outputs": [],
   "source": [
    "import socket\n",
    "import sys\n",
    "import time\n",
    "from _thread import start_new_thread\n",
    "import pickle\n",
    "import cv2"
   ]
  },
  {
   "cell_type": "code",
   "execution_count": 2,
   "metadata": {},
   "outputs": [],
   "source": [
    "def find_fps(t):\n",
    "    return(time.time()-t)"
   ]
  },
  {
   "cell_type": "code",
   "execution_count": 3,
   "metadata": {},
   "outputs": [],
   "source": [
    "def client_thread(conn):\n",
    "    \n",
    "    print('client thread started')\n",
    "    #conn.send(bytes(input(\"enter input : \"), 'UTF-8'))\n",
    "    while True:\n",
    "        data=b\"\"\n",
    "        while True:\n",
    "\n",
    "            packet = conn.recv(4096)\n",
    "            if not packet: break\n",
    "            data+=packet\n",
    "        if not data: break\n",
    "        data=pickle.loads(data)\n",
    "        print(\" \")\n",
    "        print(data[0])\n",
    "        print(\"DATE\")\n",
    "        print(data[1])\n",
    "        \n",
    "        cv2.imshow(\"frame transmitted!\", data[0])\n",
    "        if cv2.waitKey(0)==ord('q'):\n",
    "            cv2.destroyAllWindows()\n",
    "\n",
    "        #conn.sendall(bytes(reply, 'UTF-8'))\n",
    "    conn.close()\n",
    "    print(\"connection closed\")\n",
    "\n",
    "    cv2.imshow(\"frame transmitted!\", data)\n",
    "    if cv2.waitKey(0)==ord('q'):\n",
    "        cv2.destroyAllWindows()\n",
    "    return data\n"
   ]
  },
  {
   "cell_type": "code",
   "execution_count": null,
   "metadata": {},
   "outputs": [],
   "source": []
  },
  {
   "cell_type": "code",
   "execution_count": 4,
   "metadata": {},
   "outputs": [
    {
     "name": "stdout",
     "output_type": "stream",
     "text": [
      "bind complete\n",
      "socket listening\n",
      "connected to  127.0.0.1   52150\n",
      "client thread started\n",
      " \n",
      "[[[ 0 71 71]\n",
      "  [ 6 77 77]\n",
      "  [20 70 78]\n",
      "  ...\n",
      "  [15 43 47]\n",
      "  [ 4 45 47]\n",
      "  [ 4 45 47]]\n",
      "\n",
      " [[22 67 75]\n",
      "  [24 69 78]\n",
      "  [27 69 73]\n",
      "  ...\n",
      "  [ 8 44 47]\n",
      "  [ 0 47 44]\n",
      "  [ 0 47 44]]\n",
      "\n",
      " [[28 67 72]\n",
      "  [29 68 73]\n",
      "  [28 67 72]\n",
      "  ...\n",
      "  [ 0 47 44]\n",
      "  [ 1 45 43]\n",
      "  [ 0 42 39]]\n",
      "\n",
      " ...\n",
      "\n",
      " [[ 3 23 24]\n",
      "  [ 4 24 25]\n",
      "  [10 30 31]\n",
      "  ...\n",
      "  [23 35 33]\n",
      "  [25 39 39]\n",
      "  [29 42 42]]\n",
      "\n",
      " [[ 8 26 28]\n",
      "  [ 9 27 29]\n",
      "  [10 30 31]\n",
      "  ...\n",
      "  [23 35 33]\n",
      "  [26 38 36]\n",
      "  [28 40 38]]\n",
      "\n",
      " [[11 28 30]\n",
      "  [12 29 31]\n",
      "  [ 2 27 28]\n",
      "  ...\n",
      "  [20 32 30]\n",
      "  [20 32 30]\n",
      "  [18 30 28]]]\n",
      "DATE\n",
      "1553705711.5604637\n",
      "connection closed\n"
     ]
    },
    {
     "ename": "KeyboardInterrupt",
     "evalue": "",
     "output_type": "error",
     "traceback": [
      "\u001b[0;31m---------------------------------------------------------------------------\u001b[0m",
      "\u001b[0;31mKeyboardInterrupt\u001b[0m                         Traceback (most recent call last)",
      "\u001b[0;32m<ipython-input-4-fb58ea24b75d>\u001b[0m in \u001b[0;36m<module>\u001b[0;34m()\u001b[0m\n\u001b[1;32m     18\u001b[0m \u001b[0;34m\u001b[0m\u001b[0m\n\u001b[1;32m     19\u001b[0m \u001b[0;32mwhile\u001b[0m \u001b[0;32mTrue\u001b[0m\u001b[0;34m:\u001b[0m\u001b[0;34m\u001b[0m\u001b[0;34m\u001b[0m\u001b[0m\n\u001b[0;32m---> 20\u001b[0;31m     \u001b[0mconn\u001b[0m\u001b[0;34m,\u001b[0m \u001b[0maddr\u001b[0m \u001b[0;34m=\u001b[0m \u001b[0ms\u001b[0m\u001b[0;34m.\u001b[0m\u001b[0maccept\u001b[0m\u001b[0;34m(\u001b[0m\u001b[0;34m)\u001b[0m\u001b[0;34m\u001b[0m\u001b[0;34m\u001b[0m\u001b[0m\n\u001b[0m\u001b[1;32m     21\u001b[0m     \u001b[0mprint\u001b[0m\u001b[0;34m(\u001b[0m\u001b[0;34m'connected to '\u001b[0m\u001b[0;34m,\u001b[0m \u001b[0maddr\u001b[0m\u001b[0;34m[\u001b[0m\u001b[0;36m0\u001b[0m\u001b[0;34m]\u001b[0m\u001b[0;34m,\u001b[0m \u001b[0;34m\" \"\u001b[0m\u001b[0;34m,\u001b[0m \u001b[0maddr\u001b[0m\u001b[0;34m[\u001b[0m\u001b[0;36m1\u001b[0m\u001b[0;34m]\u001b[0m\u001b[0;34m)\u001b[0m\u001b[0;34m\u001b[0m\u001b[0;34m\u001b[0m\u001b[0m\n\u001b[1;32m     22\u001b[0m     \u001b[0;32mtry\u001b[0m\u001b[0;34m:\u001b[0m\u001b[0;34m\u001b[0m\u001b[0;34m\u001b[0m\u001b[0m\n",
      "\u001b[0;32m~/anaconda3/lib/python3.6/socket.py\u001b[0m in \u001b[0;36maccept\u001b[0;34m(self)\u001b[0m\n\u001b[1;32m    203\u001b[0m         \u001b[0mFor\u001b[0m \u001b[0mIP\u001b[0m \u001b[0msockets\u001b[0m\u001b[0;34m,\u001b[0m \u001b[0mthe\u001b[0m \u001b[0maddress\u001b[0m \u001b[0minfo\u001b[0m \u001b[0;32mis\u001b[0m \u001b[0ma\u001b[0m \u001b[0mpair\u001b[0m \u001b[0;34m(\u001b[0m\u001b[0mhostaddr\u001b[0m\u001b[0;34m,\u001b[0m \u001b[0mport\u001b[0m\u001b[0;34m)\u001b[0m\u001b[0;34m.\u001b[0m\u001b[0;34m\u001b[0m\u001b[0;34m\u001b[0m\u001b[0m\n\u001b[1;32m    204\u001b[0m         \"\"\"\n\u001b[0;32m--> 205\u001b[0;31m         \u001b[0mfd\u001b[0m\u001b[0;34m,\u001b[0m \u001b[0maddr\u001b[0m \u001b[0;34m=\u001b[0m \u001b[0mself\u001b[0m\u001b[0;34m.\u001b[0m\u001b[0m_accept\u001b[0m\u001b[0;34m(\u001b[0m\u001b[0;34m)\u001b[0m\u001b[0;34m\u001b[0m\u001b[0;34m\u001b[0m\u001b[0m\n\u001b[0m\u001b[1;32m    206\u001b[0m         \u001b[0;31m# If our type has the SOCK_NONBLOCK flag, we shouldn't pass it onto the\u001b[0m\u001b[0;34m\u001b[0m\u001b[0;34m\u001b[0m\u001b[0;34m\u001b[0m\u001b[0m\n\u001b[1;32m    207\u001b[0m         \u001b[0;31m# new socket. We do not currently allow passing SOCK_NONBLOCK to\u001b[0m\u001b[0;34m\u001b[0m\u001b[0;34m\u001b[0m\u001b[0;34m\u001b[0m\u001b[0m\n",
      "\u001b[0;31mKeyboardInterrupt\u001b[0m: "
     ]
    }
   ],
   "source": [
    "HOST = '127.0.0.1'\n",
    "PORT =8888\n",
    "\n",
    "s = socket.socket(socket.AF_INET, socket.SOCK_STREAM)\n",
    "s.setsockopt(socket.SOL_SOCKET, socket.SO_REUSEADDR, 1)\n",
    "try:\n",
    "    s.bind((HOST, PORT))\n",
    "\n",
    "except socket.error as msg:\n",
    "    print(msg)\n",
    "    sys.exit()\n",
    "\n",
    "print(\"bind complete\")\n",
    "s.listen(5)\n",
    "print(\"socket listening\")\n",
    "\n",
    "\n",
    "\n",
    "while True:\n",
    "    conn, addr = s.accept()\n",
    "    print('connected to ', addr[0], \" \", addr[1]) \n",
    "    try:\n",
    "        msg = start_new_thread(client_thread(conn,))\n",
    "        print(msg)\n",
    "    except TypeError:\n",
    "        pass\n",
    "s.close()      \n"
   ]
  },
  {
   "cell_type": "code",
   "execution_count": 8,
   "metadata": {},
   "outputs": [
    {
     "data": {
      "text/plain": [
       "<socket.socket [closed] fd=-1, family=AddressFamily.AF_INET, type=SocketKind.SOCK_STREAM, proto=0>"
      ]
     },
     "execution_count": 8,
     "metadata": {},
     "output_type": "execute_result"
    }
   ],
   "source": [
    "conn"
   ]
  },
  {
   "cell_type": "code",
   "execution_count": null,
   "metadata": {
    "scrolled": true
   },
   "outputs": [],
   "source": []
  },
  {
   "cell_type": "code",
   "execution_count": null,
   "metadata": {},
   "outputs": [],
   "source": []
  },
  {
   "cell_type": "code",
   "execution_count": null,
   "metadata": {},
   "outputs": [],
   "source": []
  }
 ],
 "metadata": {
  "kernelspec": {
   "display_name": "Python 3",
   "language": "python",
   "name": "python3"
  },
  "language_info": {
   "codemirror_mode": {
    "name": "ipython",
    "version": 3
   },
   "file_extension": ".py",
   "mimetype": "text/x-python",
   "name": "python",
   "nbconvert_exporter": "python",
   "pygments_lexer": "ipython3",
   "version": "3.6.8"
  }
 },
 "nbformat": 4,
 "nbformat_minor": 2
}
